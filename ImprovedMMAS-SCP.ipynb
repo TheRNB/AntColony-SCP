{
 "cells": [
  {
   "cell_type": "markdown",
   "metadata": {},
   "source": [
    "# IMPLEMENTATION\n",
    "To implement a secondary solution we want to use genetics algorithms. We will also utilize local search to improve our eploitation"
   ]
  },
  {
   "cell_type": "markdown",
   "metadata": {},
   "source": [
    "# CHROMOSOME\n",
    "We should now define our chromosomes. Based on the problem the chormosomes are binary arrays of size J (number of columns/sets). each cell is either 0 or 1, if the i-th index is 1 it means that in that possible solution, the i-th set is included in the solution, and if 0 it is not."
   ]
  },
  {
   "cell_type": "markdown",
   "metadata": {},
   "source": [
    "To have a fair comparison with the algorithm in the paper, we define the constants the same as the paper:"
   ]
  },
  {
   "cell_type": "code",
   "execution_count": null,
   "metadata": {},
   "outputs": [
    {
     "name": "stdout",
     "output_type": "stream",
     "text": [
      "300 3000\n"
     ]
    }
   ],
   "source": [
    "GenCount = 3\n",
    "PopCount = 1000\n",
    "crossover_rate = 0.95\n",
    "mutation_rate = 0.9\n",
    "rho1 = 0.15\n",
    "rho2 = 1.1\n",
    "targetWeight = 20\n",
    "oldpopulationkeeprate = 0.01\n",
    "\n",
    "que = open(\"scpb5.txt\", \"r\")\n",
    "\n",
    "#initialize the constants\n",
    "universalSetCount, subsetCount = map(int, que.readline().strip().split(\" \"))\n",
    "print(universalSetCount, subsetCount)\n",
    "\n",
    "subsets = [[0] for i in range(subsetCount)]\n",
    "\n",
    "cost = []\n",
    "heuristic = []\n",
    "\n",
    "i = 0\n",
    "while i < subsetCount:\n",
    "    temp = list(map(int, que.readline().lstrip(\" \").rstrip(\"\\n\").rstrip(\" \").split(\" \")))\n",
    "    cost = cost + temp\n",
    "    i += len(temp)\n",
    "\n",
    "for i in range(universalSetCount):\n",
    "    cnt = int(que.readline().lstrip(\" \").rstrip(\"\\n\").rstrip(\" \"))\n",
    "    j = 0\n",
    "    while j < cnt:\n",
    "        temp = list(map(int, que.readline().lstrip(\" \").rstrip(\"\\n\").rstrip(\" \").split(\" \")))\n",
    "        #print(temp)\n",
    "        for lis in temp:\n",
    "            subsets[lis-1].append(i)\n",
    "        j += len(temp)\n",
    "    \n",
    "heuristic = [len(subsets[i])/cost[i] for i in range(len(subsets))]\n",
    "\n",
    "# Given sets and variables\n",
    "alphai = [[] for _ in range(universalSetCount)]\n",
    "for i in range(universalSetCount):\n",
    "    for j in range(len(subsets)):\n",
    "        if i in subsets[j]:\n",
    "            alphai[i].append(j)"
   ]
  },
  {
   "cell_type": "markdown",
   "metadata": {},
   "source": [
    "# HELPER FUNCTION"
   ]
  },
  {
   "cell_type": "code",
   "execution_count": null,
   "metadata": {},
   "outputs": [],
   "source": [
    "def is_covered(solution):\n",
    "    \"\"\"gets a solution array and determines wether the\n",
    "    union of this solution covers all the elements in\n",
    "    the universal set or not.\n",
    "\n",
    "    Args:\n",
    "        solution (list): a solution array for the problem\n",
    "\n",
    "    Returns:\n",
    "        bool: True if the solution is an answer, False otherwise\n",
    "    \"\"\"\n",
    "    uncovered_lines = [1 for _ in range(universalSetCount)]\n",
    "    for i in range(len(subsets)):\n",
    "        if solution[i] == 1:\n",
    "            for j in subsets[i]:\n",
    "                uncovered_lines[j-1] = 0\n",
    "    return (sum(uncovered_lines) == 0)"
   ]
  },
  {
   "cell_type": "markdown",
   "metadata": {},
   "source": [
    "# COST FUNCTION\n",
    "The cost of a solution is defined as the sum of the costs of all the sets that are included in that solution. a.k.a.\\\n",
    "$$ f(solution) = \\Sigma_{j=1\\dots n} Cost_j * solution[j] $$"
   ]
  },
  {
   "cell_type": "code",
   "execution_count": null,
   "metadata": {},
   "outputs": [],
   "source": [
    "def costt(solution):\n",
    "    \"\"\"gives cost for a solution\n",
    "\n",
    "    Args:\n",
    "        solution (list): a potential answer\n",
    "\n",
    "    Returns:\n",
    "        int: a number representing the solution cost\n",
    "    \"\"\"\n",
    "    totalCost = 0\n",
    "    for i in range(len(subsets)):\n",
    "        if solution[i] == 1:\n",
    "            totalCost += cost[i]\n",
    "    if is_covered(solution) == False:\n",
    "        totalCost += 2000 #huge penalty for not having full coverage\n",
    "    return totalCost"
   ]
  },
  {
   "cell_type": "markdown",
   "metadata": {},
   "source": [
    "# CROSSOVER\n",
    "In order to do crossover, assuming that we have chosen two highly fit parents, we do one-point swap cross over. meaning that we choose a random index and split and swap the first part of the parents to create two childeren."
   ]
  },
  {
   "cell_type": "code",
   "execution_count": null,
   "metadata": {},
   "outputs": [],
   "source": [
    "import random\n",
    "\n",
    "def crossover (parent1, parent2):\n",
    "    \"\"\"cross over function using one-point swap technique.\n",
    "\n",
    "    Args:\n",
    "        parent1 (list): a highly fit solution\n",
    "        parent2 (list): another highly fit solution\n",
    "\n",
    "    Returns:\n",
    "        list: a pair of two solutions as results of crossover\n",
    "    \"\"\"\n",
    "    if random.random() < crossover_rate:\n",
    "        # Use one-point crossover\n",
    "        point = random.randint(1, len(subsets) - 2) # Random crossover point\n",
    "        child1 = parent1[:point] + parent2[point:] # First offspring\n",
    "        child2 = parent2[:point] + parent1[point:] # Second offspring\n",
    "    else:\n",
    "        # No crossover, offspring are copies of parents\n",
    "        child1 = parent1.copy()\n",
    "        child2 = parent2.copy()\n",
    "    return [child1, child2]"
   ]
  },
  {
   "cell_type": "markdown",
   "metadata": {},
   "source": [
    "# MUTATION\n",
    "We are going to use random bit flip mutation. Meaning for mutation for each index i, there is a probabiliy it gets mutated, meaning if i is included in the solution it gets removed, if not it gets added."
   ]
  },
  {
   "cell_type": "code",
   "execution_count": null,
   "metadata": {},
   "outputs": [],
   "source": [
    "def mutation(solution):\n",
    "    \"\"\"mutation function that uses random but flip technique.\n",
    "\n",
    "    Args:\n",
    "        solution (list): a solution to the problem\n",
    "    \"\"\"\n",
    "    for i in range(len(solution)):\n",
    "        if random.random() < mutation_rate:\n",
    "            solution[i] = 1 - solution[i]\n",
    "    return"
   ]
  },
  {
   "cell_type": "markdown",
   "metadata": {},
   "source": [
    "# ELIMINATION OF THE REDUNDANT COLUMNS\n",
    "The paper introduces an iterative algorithm to delete redundant sets. We implement this algorithm."
   ]
  },
  {
   "cell_type": "code",
   "execution_count": null,
   "metadata": {},
   "outputs": [],
   "source": [
    "def eliminate(solution):\n",
    "    \"\"\"A function that gets a solution array that is an answer\n",
    "    to the problem, finds the redundant sets among the sets present\n",
    "    in the array and deletes them starting from the one with the most\n",
    "    cost.\n",
    "\n",
    "    Args:\n",
    "        solution (list): a solution list that is also an answer\n",
    "    \"\"\"\n",
    "    # Step 1: Initialize wi\n",
    "    wi = [0 for _ in range(universalSetCount)]\n",
    "    for i in range(len(solution)):\n",
    "        if solution[i] == 1:\n",
    "            for j in range(len(subsets[i])):\n",
    "                wi[subsets[i][j]-1] += 1\n",
    "\n",
    "    # Step 2-6: Iterative elimination of redundant columns\n",
    "    for i in reversed(range(len(subsets))):\n",
    "        if solution[i] == 1:\n",
    "            canDelete = True\n",
    "            for j in range(len(subsets[i])):\n",
    "                if wi[subsets[i][j]-1] <= 1:\n",
    "                    canDelete = False\n",
    "                    break\n",
    "            if canDelete:\n",
    "                solution[i] = 0\n",
    "                for j in range(len(subsets[i])):\n",
    "                    wi[subsets[i][j]-1] -= 1\n",
    "    return"
   ]
  },
  {
   "cell_type": "markdown",
   "metadata": {},
   "source": [
    "# LOCAL SEARCH ALGORITHM\n",
    "The paper also introduces a local search algorithm. The algorithm is as follows:"
   ]
  },
  {
   "cell_type": "code",
   "execution_count": null,
   "metadata": {},
   "outputs": [],
   "source": [
    "def localSearch (solution):\n",
    "    \"\"\"Local search algorithm that gets a solution that is an answer\n",
    "    and searches for any neighboring solution that might have a lower\n",
    "    costt than this solution. Implemented based on the directives given\n",
    "    by the paper\n",
    "\n",
    "    Args:\n",
    "        solution (list): a solution array to the problem\n",
    "\n",
    "    Returns:\n",
    "        list: A neighboring solution that might have a better costt\n",
    "    \"\"\"\n",
    "    #print(len(solution))\n",
    "    number_of_columns = 0\n",
    "    for i in solution:\n",
    "        if i == 1:\n",
    "            number_of_columns += 1\n",
    "\n",
    "    max_cost_element = -1e9\n",
    "    for i in range(len(solution)):\n",
    "        if solution[i] == 1:\n",
    "            max_cost_element = max(max_cost_element, cost[i])\n",
    "\n",
    "    wi = [[0] for _ in range(universalSetCount)]\n",
    "    for i in range(len(solution)):\n",
    "        if solution[i] == 1:\n",
    "            for j in subsets[i]:\n",
    "                wi[j].append(i)\n",
    "\n",
    "    D = int(rho1 * number_of_columns)\n",
    "    E = rho2 * max_cost_element\n",
    "\n",
    "    # Choose D columns to eliminate from the solution solution\n",
    "    for _ in range(D):\n",
    "        j = random.choice(list(range(sum(solution))))\n",
    "        i = 0\n",
    "        for k in range(len(subsets)):\n",
    "            if solution[k] == 1:\n",
    "                if i == j:\n",
    "                    solution[k] = 0\n",
    "                    break\n",
    "                i += 1\n",
    "                \n",
    "\n",
    "    # Perform the covering\n",
    "    while is_covered(solution) == False:\n",
    "        #print(len(solution), flush=True)\n",
    "        record_columns = []\n",
    "        for j in range(len(subsets)):\n",
    "            if solution[j] == 0 and cost[j] <= E:\n",
    "                record_columns.append(j)\n",
    "        \n",
    "        min_ratio = float('inf')\n",
    "        selected_column = -1\n",
    "\n",
    "        for column in record_columns:\n",
    "            ratio = cost[column] / len(subsets[column])\n",
    "            if ratio < min_ratio:\n",
    "                min_ratio = ratio\n",
    "                selected_column = column\n",
    "\n",
    "        solution[selected_column] = True\n",
    "\n",
    "    return solution"
   ]
  },
  {
   "cell_type": "markdown",
   "metadata": {},
   "source": [
    "# INFERENCE\n",
    "We should now do inference."
   ]
  },
  {
   "cell_type": "code",
   "execution_count": null,
   "metadata": {},
   "outputs": [
    {
     "name": "stdout",
     "output_type": "stream",
     "text": [
      "Generation: 0\n",
      "Best solution: [1, 1, 1, 1, 1, 1, 1, 1, 1, 0, 1, 0, 1, 0, 0, 0, 0, 1, 1, 0, 1, 1, 1, 0, 0, 1, 0, 1, 0, 0, 1, 0, 0, 1, 1, 1, 0, 1, 0, 1, 0, 0, 0, 1, 0, 0, 1, 0, 1, 0, 1, 1, 0, 0, 0, 0, 0, 0, 0, 0, 0, 0, 0, 0, 0, 1, 0, 0, 1, 0, 1, 0, 0, 0, 0, 1, 0, 0, 0, 0, 0, 1, 0, 0, 0, 0, 0, 0, 0, 0, 0, 0, 0, 0, 0, 0, 1, 0, 0, 0, 1, 0, 0, 0, 0, 0, 0, 0, 1, 1, 0, 0, 0, 0, 0, 0, 0, 0, 1, 0, 0, 0, 0, 0, 0, 1, 0, 1, 0, 0, 1, 0, 0, 0, 0, 0, 0, 0, 0, 0, 0, 0, 0, 0, 0, 0, 0, 0, 0, 0, 0, 0, 0, 0, 0, 0, 1, 0, 0, 0, 0, 0, 0, 0, 0, 0, 0, 0, 0, 0, 0, 0, 0, 0, 0, 0, 0, 0, 0, 0, 0, 0, 0, 0, 0, 0, 0, 0, 0, 0, 0, 0, 0, 0, 0, 0, 0, 0, 0, 0, 0, 0, 0, 0, 0, 0, 0, 0, 0, 0, 0, 0, 0, 0, 0, 0, 0, 0, 0, 0, 0, 0, 0, 0, 0, 0, 0, 0, 0, 0, 0, 0, 0, 0, 0, 0, 0, 0, 0, 0, 0, 0, 0, 0, 0, 0, 0, 0, 0, 0, 0, 0, 0, 0, 0, 0, 0, 0, 0, 0, 0, 0, 0, 0, 0, 0, 0, 0, 0, 0, 0, 0, 0, 0, 0, 0, 0, 0, 0, 0, 0, 0, 0, 0, 0, 0, 0, 0, 0, 0, 0, 0, 0, 0, 0, 0, 0, 0, 0, 0, 0, 0, 0, 0, 0, 0, 0, 0, 0, 0, 0, 0, 0, 0, 0, 0, 0, 0, 0, 0, 0, 0, 0, 0, 0, 0, 0, 0, 0, 0, 0, 0, 0, 0, 0, 0, 0, 0, 0, 0, 0, 0, 0, 0, 0, 0, 0, 0, 0, 0, 0, 0, 0, 0, 0, 0, 0, 0, 0, 0, 0, 0, 0, 0, 0, 0, 0, 0, 0, 0, 0, 0, 0, 0, 0, 0, 0, 0, 0, 0, 0, 0, 0, 0, 0, 0, 0, 0, 0, 0, 0, 0, 0, 0, 0, 0, 0, 0, 0, 0, 0, 0, 0, 0, 0, 0, 0, 0, 0, 0, 0, 0, 0, 0, 0, 0, 0, 0, 0, 0, 0, 0, 0, 0, 0, 0, 0, 0, 0, 0, 0, 0, 0, 0, 0, 0, 0, 0, 0, 0, 0, 0, 0, 0, 0, 0, 0, 0, 0, 0, 0, 0, 0, 0, 0, 0, 0, 0, 0, 0, 0, 0, 0, 0, 0, 0, 0, 0, 0, 0, 0, 0, 0, 0, 0, 0, 0, 0, 0, 0, 0, 0, 0, 0, 0, 0, 0, 0, 0, 0, 0, 0, 0, 0, 0, 0, 0, 0, 0, 0, 0, 0, 0, 0, 0, 0, 0, 0, 0, 0, 0, 0, 0, 0, 0, 0, 0, 0, 0, 0, 0, 0, 0, 0, 0, 0, 0, 0, 0, 0, 0, 0, 0, 0, 0, 0, 0, 0, 0, 0, 0, 0, 0, 0, 0, 0, 0, 0, 0, 0, 0, 0, 0, 0, 0, 0, 0, 0, 0, 0, 0, 0, 0, 0, 0, 0, 0, 0, 0, 0, 0, 0, 0, 0, 0, 0, 0, 0, 0, 0, 0, 0, 0, 0, 0, 0, 0, 0, 0, 0, 0, 0, 0, 0, 0, 0, 0, 0, 0, 0, 0, 0, 0, 0, 0, 0, 0, 0, 0, 0, 0, 0, 0, 0, 0, 0, 0, 0, 0, 0, 0, 0, 0, 0, 0, 0, 0, 0, 0, 0, 0, 0, 0, 0, 0, 0, 0, 0, 0, 0, 0, 0, 0, 0, 0, 0, 0, 0, 0, 0, 0, 0, 0, 0, 0, 0, 0, 0, 0, 0, 0, 0, 0, 0, 0, 0, 0, 0, 0, 0, 0, 0, 0, 0, 0, 0, 0, 0, 0, 0, 0, 0, 0, 0, 0, 0, 0, 0, 0, 0, 0, 0, 0, 0, 0, 0, 0, 0, 0, 0, 0, 0, 0, 0, 0, 0, 0, 0, 0, 0, 0, 0, 0, 0, 0, 0, 0, 0, 0, 0, 0, 0, 0, 0, 0, 0, 0, 0, 0, 0, 0, 0, 0, 0, 0, 0, 0, 0, 0, 0, 0, 0, 0, 0, 0, 0, 0, 0, 0, 0, 0, 0, 0, 0, 0, 0, 0, 0, 0, 0, 0, 0, 0, 0, 0, 0, 0, 0, 0, 0, 0, 0, 0, 0, 0, 0, 0, 0, 0, 0, 0, 0, 0, 0, 0, 0, 0, 0, 0, 0, 0, 0, 0, 0, 0, 0, 0, 0, 0, 0, 0, 0, 0, 0, 0, 0, 0, 0, 0, 0, 0, 0, 0, 0, 0, 0, 0, 0, 0, 0, 0, 0, 0, 0, 0, 0, 0, 0, 0, 0, 0, 0, 0, 0, 0, 0, 0, 0, 0, 0, 0, 0, 0, 0, 0, 0, 0, 0, 0, 0, 0, 0, 0, 0, 0, 0, 0, 0, 0, 0, 0, 0, 0, 0, 0, 0, 0, 0, 0, 0, 0, 0, 0, 0, 0, 0, 0, 0, 0, 0, 0, 0, 0, 0, 0, 0, 0, 0, 0, 0, 0, 0, 0, 0, 0, 0, 0, 0, 0, 0, 0, 0, 0, 0, 0, 0, 0, 0, 0, 0, 0, 0, 0, 0, 0, 0, 0, 0, 0, 0, 0, 0, 0, 0, 0, 0, 0, 0, 0, 0, 0, 0, 0, 0, 0, 0, 0, 0, 0, 0, 0, 0, 0, 0, 0, 0, 0, 0, 0, 0, 0, 0, 0, 0, 0, 0, 0, 0, 0, 0, 0, 0, 0, 0, 0, 0, 0, 0, 0, 0, 0, 0, 0, 0, 0, 0, 0, 0, 0, 0, 0, 0, 0, 0, 0, 0, 0, 0, 0, 0, 0, 0, 0, 0, 0, 0, 0, 0, 0, 0, 0, 0, 0, 0, 0, 0, 0, 0, 0, 0, 0, 0, 0, 0, 0, 0, 0, 0, 0, 0, 0, 0, 0, 0, 0, 0, 0, 0, 0, 0, 0, 0, 0, 0, 0, 0, 0, 0, 0, 0, 0, 0, 0, 0, 0, 0, 0, 0, 0, 0, 0, 0, 0, 0, 0, 0, 0, 0, 0, 0, 0, 0, 0, 0, 0, 0, 0, 0, 0, 0, 0, 0, 0, 0, 0, 0, 0, 0, 0, 0, 0, 0, 0, 0, 0, 0, 0, 0, 0, 0, 0, 0, 0, 0, 0, 0, 0, 0, 0, 0, 0, 0, 0, 0, 0, 0, 0, 0, 0, 0, 0, 0, 0, 0, 0, 0, 0, 0, 0, 0, 0, 0, 0, 0, 0, 0, 0, 0, 0, 0, 0, 0, 0, 0, 0, 0, 0, 0, 0, 0, 0, 0, 0, 0, 0, 0, 0, 0, 0, 0, 0, 0, 0, 0, 0, 0, 0, 0, 0, 0, 0, 0, 0, 0, 0, 0, 0, 0, 0, 0, 0, 0, 0, 0, 0, 0, 0, 0, 0, 0, 0, 0, 0, 0, 0, 0, 0, 0, 0, 0, 0, 0, 0, 0, 0, 0, 0, 0, 0, 0, 0, 0, 0, 0, 0, 0, 0, 0, 0, 0, 0, 0, 0, 0, 0, 0, 0, 0, 0, 0, 0, 0, 0, 0, 0, 0, 0, 0, 0, 0, 0, 0, 0, 0, 0, 0, 0, 0, 0, 0, 0, 0, 0, 0, 0, 0, 0, 0, 0, 0, 0, 0, 0, 0, 0, 0, 0, 0, 0, 0, 0, 0, 0, 0, 0, 0, 0, 0, 0, 0, 0, 0, 0, 0, 0, 0, 0, 0, 0, 0, 0, 0, 0, 0, 0, 0, 0, 0, 0, 0, 0, 0, 0, 0, 0, 0, 0, 0, 0, 0, 0, 0, 0, 0, 0, 0, 0, 0, 0, 0, 0, 0, 0, 0, 0, 0, 0, 0, 0, 0, 0, 0, 0, 0, 0, 0, 0, 0, 0, 0, 0, 0, 0, 0, 0, 0, 0, 0, 0, 0, 0, 0, 0, 0, 0, 0, 0, 0, 0, 0, 0, 0, 0, 0, 0, 0, 0, 0, 0, 0, 0, 0, 0, 0, 0, 0, 0, 0, 0, 0, 0, 0, 0, 0, 0, 0, 0, 0, 0, 0, 0, 0, 0, 0, 0, 0, 0, 0, 0, 0, 0, 0, 0, 0, 0, 0, 0, 0, 0, 0, 0, 0, 0, 0, 0, 0, 0, 0, 0, 0, 0, 0, 0, 0, 0, 0, 0, 0, 0, 0, 0, 0, 0, 0, 0, 0, 0, 0, 0, 0, 0, 0, 0, 0, 0, 0, 0, 0, 0, 0, 0, 0, 0, 0, 0, 0, 0, 0, 0, 0, 0, 0, 0, 0, 0, 0, 0, 0, 0, 0, 0, 0, 0, 0, 0, 0, 0, 0, 0, 0, 0, 0, 0, 0, 0, 0, 0, 0, 0, 0, 0, 0, 0, 0, 0, 0, 0, 0, 0, 0, 0, 0, 0, 0, 0, 0, 0, 0, 0, 0, 0, 0, 0, 0, 0, 0, 0, 0, 0, 0, 0, 0, 0, 0, 0, 0, 0, 0, 0, 0, 0, 0, 0, 0, 0, 0, 0, 0, 0, 0, 0, 0, 0, 0, 0, 0, 0, 0, 0, 0, 0, 0, 0, 0, 0, 0, 0, 0, 0, 0, 0, 0, 0, 0, 0, 0, 0, 0, 0, 0, 0, 0, 0, 0, 0, 0, 0, 0, 0, 0, 0, 0, 0, 0, 0, 0, 0, 0, 0, 0, 0, 0, 0, 0, 0, 0, 0, 0, 0, 0, 0, 0, 0, 0, 0, 0, 0, 0, 0, 0, 0, 0, 0, 0, 0, 0, 0, 0, 0, 0, 0, 0, 0, 0, 0, 0, 0, 0, 0, 0, 0, 0, 0, 0, 0, 0, 0, 0, 0, 0, 0, 0, 0, 0, 0, 0, 0, 0, 0, 0, 0, 0, 0, 0, 0, 0, 0, 0, 0, 0, 0, 0, 0, 0, 0, 0, 0, 0, 0, 0, 0, 0, 0, 0, 0, 0, 0, 0, 0, 0, 0, 0, 0, 0, 0, 0, 0, 0, 0, 0, 0, 0, 0, 0, 0, 0, 0, 0, 0, 0, 0, 0, 0, 0, 0, 0, 0, 0, 0, 0, 0, 0, 0, 0, 0, 0, 0, 0, 0, 0, 0, 0, 0, 0, 0, 0, 0, 0, 0, 0, 0, 0, 0, 0, 0, 0, 0, 0, 0, 0, 0, 0, 0, 0, 0, 0, 0, 0, 0, 0, 0, 0, 0, 0, 0, 0, 0, 0, 0, 0, 0, 0, 0, 0, 0, 0, 0, 0, 0, 0, 0, 0, 0, 0, 0, 0, 0, 0, 0, 0, 0, 0, 0, 0, 0, 0, 0, 0, 0, 0, 0, 0, 0, 0, 0, 0, 0, 0, 0, 0, 0, 0, 0, 0, 0, 0, 0, 0, 0, 0, 0, 0, 0, 0, 0, 0, 0, 0, 0, 0, 0, 0, 0, 0, 0, 0, 0, 0, 0, 0, 0, 0, 0, 0, 0, 0, 0, 0, 0, 0, 0, 0, 0, 0, 0, 0, 0, 0, 0, 0, 0, 0, 0, 0, 0, 0, 0, 0, 0, 0, 0, 0, 0, 0, 0, 0, 0, 0, 0, 0, 0, 0, 0, 0, 0, 0, 0, 0, 0, 0, 0, 0, 0, 0, 0, 0, 0, 0, 0, 0, 0, 0, 0, 0, 0, 0, 0, 0, 0, 0, 0, 0, 0, 0, 0, 0, 0, 0, 0, 0, 0, 0, 0, 0, 0, 0, 0, 0, 0, 0, 0, 0, 0, 0, 0, 0, 0, 0, 0, 0, 0, 0, 0, 0, 0, 0, 0, 0, 0, 0, 0, 0, 0, 0, 0, 0, 0, 0, 0, 0, 0, 0, 0, 0, 0, 0, 0, 0, 0, 0, 0, 0, 0, 0, 0, 0, 0, 0, 0, 0, 0, 0, 0, 0, 0, 0, 0, 0, 0, 0, 0, 0, 0, 0, 0, 0, 0, 0, 0, 0, 0, 0, 0, 0, 0, 0, 0, 0, 0, 0, 0, 0, 0, 0, 0, 0, 0, 0, 0, 0, 0, 0, 0, 0, 0, 0, 0, 0, 0, 0, 0, 0, 0, 0, 0, 0, 0, 0, 0, 0, 0, 0, 0, 0, 0, 0, 0, 0, 0, 0, 0, 0, 0, 0, 0, 0, 0, 0, 0, 0, 0, 0, 0, 0, 0, 0, 0, 0, 0, 0, 0, 0, 0, 0, 0, 0, 0, 0, 0, 0, 0, 0, 0, 0, 0, 0, 0, 0, 0, 0, 0, 0, 0, 0, 0, 0, 0, 0, 0, 0, 0, 0, 0, 0, 0, 0, 0, 0, 0, 0, 0, 0, 0, 0, 0, 0, 0, 0, 0, 0, 0, 0, 0, 0, 0, 0, 0, 0, 0, 0, 0, 0, 0, 0, 0, 0, 0, 0, 0, 0, 0, 0, 0, 0, 0, 0, 0, 0, 0, 0, 0, 0, 0, 0, 0, 0, 0, 0, 0, 0, 0, 0, 0, 0, 0, 0, 0, 0, 0, 0, 0, 0, 0, 0, 0, 0, 0, 0, 0, 0, 0, 0, 0, 0, 0, 0, 0, 0, 0, 0, 0, 0, 0, 0, 0, 0, 0, 0, 0, 0, 0, 0, 0, 0, 0, 0, 0, 0, 0, 0, 0, 0, 0, 0, 0, 0, 0, 0, 0, 0, 0, 0, 0, 0, 0, 0, 0, 0, 0, 0, 0, 0, 0, 0, 0, 0, 0, 0, 0, 0, 0, 0, 0, 0, 0, 0, 0, 0, 0, 0, 0, 0, 0, 0, 0, 0, 0, 0, 0, 0, 0, 0, 0, 0, 0, 0, 0, 0, 0, 0, 0, 0, 0, 0, 0, 0, 0, 0, 0, 0, 0, 0, 0, 0, 0, 0, 0, 0, 0, 0, 0, 0, 0, 0, 0, 0, 0, 0, 0, 0, 0, 0, 0, 0, 0, 0, 0, 0, 0, 0, 0, 0, 0, 0, 0, 0, 0, 0, 0, 0, 0, 0, 0, 0, 0, 0, 0, 0, 0, 0, 0, 0, 0, 0, 0, 0, 0, 0, 0, 0, 0, 0, 0, 0, 0, 0, 0, 0, 0, 0, 0, 0, 0, 0, 0, 0, 0, 0, 0, 0, 0, 0, 0, 0, 0, 0, 0, 0, 0, 0, 0, 0, 0, 0, 0, 0, 0, 0, 0, 0, 0, 0, 0, 0, 0, 0, 0, 0, 0, 0, 0, 0, 0, 0, 0, 0, 0, 0, 0, 0, 0, 0, 0, 0, 0, 0, 0, 0, 0, 0, 0, 0, 0, 0, 0, 0, 0, 0, 0, 0, 0, 0, 0, 0, 0, 0, 0, 0, 0, 0, 0, 0, 0, 0, 0, 0, 0, 0, 0, 0, 0, 0, 0, 0, 0, 0, 0, 0, 0, 0, 0, 0, 0, 0, 0, 0, 0, 0, 0, 0, 0, 0, 0, 0, 0, 0, 0, 0, 0, 0, 0, 0, 0, 0, 0, 0, 0, 0, 0, 0, 0, 0, 0, 0, 0, 0, 0, 0, 0, 0, 0, 0, 0, 0, 0, 0, 0, 0, 0, 0, 0, 0, 0, 0, 0, 0, 0, 0, 0, 0, 0, 0, 0, 0, 0, 0, 0, 0, 0, 0, 0, 0, 0, 0, 0, 0, 0, 0, 0, 0, 0, 0, 0, 0, 0, 0, 0, 0, 0, 0, 0, 0, 0, 0, 0, 0, 0, 0, 0, 0, 0, 0, 0, 0, 0, 0, 0, 0, 0, 0, 0, 0, 0, 0, 0, 0, 0, 0, 0, 0, 0, 0, 0, 0, 0, 0, 0, 0, 0, 0, 0, 0, 0, 0, 0, 0, 0, 0, 0, 0, 0, 0, 0, 0, 0, 0, 0, 0, 0, 0, 0, 0, 0, 0, 0, 0, 0, 0, 0, 0, 0, 0, 0, 0, 0, 0, 0, 0, 0, 0, 0, 0, 0, 0, 0, 0, 0, 0, 0, 0, 0, 0, 0, 0, 0, 0, 0, 0, 0, 0, 0, 0, 0, 0, 0, 0, 0, 0, 0, 0, 0, 0, 0, 0, 0, 0, 0, 0, 0, 0, 0, 0, 0, 0, 0, 0, 0, 0, 0, 0, 0, 0, 0, 0, 0, 0, 0, 0, 0, 0, 0, 0, 0, 0, 0, 0, 0, 0, 0, 0, 0, 0, 0, 0, 0, 0, 0, 0, 0, 0, 0, 0, 0, 0, 0, 0, 0, 0, 0, 0, 0, 0, 0, 0, 0, 0, 0, 0, 0, 0, 0, 0, 0, 0, 0, 0, 0, 0, 0, 0, 0, 0, 0, 0, 0, 0, 0, 0, 0, 0, 0, 0, 0, 0, 0, 0, 0, 0, 0, 0, 0, 0, 0, 0, 0, 0, 0, 0, 0, 0, 0, 0, 0, 0, 0, 0, 0, 0, 0, 0, 0, 0, 0, 0, 0, 0, 0, 0, 0, 0, 0, 0, 0, 0, 0, 0, 0, 0, 0, 0, 0, 0, 0, 0, 0, 0, 0, 0, 0, 0, 0, 0, 0, 0, 0, 0, 0, 0, 0, 0, 0, 0, 0, 0, 0, 0, 0, 0, 0, 0, 0, 0, 0, 0, 0, 0, 0, 0, 0, 0, 0, 0, 0, 0, 0, 0, 0, 0, 0, 0, 0, 0, 0, 0, 0, 0, 0, 0, 0, 0, 0, 0, 0, 0, 0, 0, 0, 0, 0, 0, 0, 0, 0, 0, 0, 0, 0, 0, 0, 0, 0, 0, 0, 0, 0, 0, 0, 0, 0, 0, 0, 0, 0, 0, 0, 0, 0, 0, 0, 0, 0, 0, 0, 0, 0, 0, 0, 0, 0, 0, 0, 0, 0, 0, 0, 0, 0, 0, 0, 0, 0, 0, 0, 0, 0, 0, 0, 0, 0, 0, 0, 0, 0, 0, 0, 0, 0, 0, 0, 0, 0, 0, 0, 0, 0, 0, 0, 0, 0, 0, 0, 0, 0, 0, 0, 0, 0, 0, 0, 0, 0, 0, 0, 0, 0, 0, 0, 0, 0, 0, 0, 0, 0, 0, 0, 0, 0, 0, 0, 0, 0, 0, 0, 0, 0, 0, 0, 0, 0, 0, 0, 0, 0, 0, 0, 0, 0, 0, 0, 0, 0, 0, 0, 0, 0, 0, 0, 0, 0, 0, 0, 0, 0, 0, 0, 0, 0, 0, 0, 0, 0, 0, 0, 0, 0, 0, 0, 0, 0, 0]\n",
      "Best fitness: 95\n",
      "\n"
     ]
    },
    {
     "ename": "KeyboardInterrupt",
     "evalue": "",
     "output_type": "error",
     "traceback": [
      "\u001b[0;31m---------------------------------------------------------------------------\u001b[0m\n",
      "\u001b[0;31mKeyboardInterrupt\u001b[0m                         Traceback (most recent call last)\n",
      "Cell \u001b[0;32mIn[110], line 61\u001b[0m\n",
      "\u001b[1;32m     58\u001b[0m mutation(c1)\n",
      "\u001b[1;32m     59\u001b[0m mutation(c2)\n",
      "\u001b[0;32m---> 61\u001b[0m c3 \u001b[39m=\u001b[39m localSearch(c1)\n",
      "\u001b[1;32m     62\u001b[0m c4 \u001b[39m=\u001b[39m localSearch(c2)\n",
      "\u001b[1;32m     63\u001b[0m \u001b[39mif\u001b[39;00m costt(c3) \u001b[39m<\u001b[39m costt(c1):\n",
      "\n",
      "Cell \u001b[0;32mIn[87], line 35\u001b[0m, in \u001b[0;36mlocalSearch\u001b[0;34m(solution)\u001b[0m\n",
      "\u001b[1;32m     33\u001b[0m \u001b[39m# Choose D columns to eliminate from the solution solution\u001b[39;00m\n",
      "\u001b[1;32m     34\u001b[0m \u001b[39mfor\u001b[39;00m _ \u001b[39min\u001b[39;00m \u001b[39mrange\u001b[39m(D):\n",
      "\u001b[0;32m---> 35\u001b[0m     j \u001b[39m=\u001b[39m random\u001b[39m.\u001b[39mchoice(\u001b[39mlist\u001b[39m(\u001b[39mrange\u001b[39m(\u001b[39msum\u001b[39m(solution))))\n",
      "\u001b[1;32m     36\u001b[0m     i \u001b[39m=\u001b[39m \u001b[39m0\u001b[39m\n",
      "\u001b[1;32m     37\u001b[0m     \u001b[39mfor\u001b[39;00m k \u001b[39min\u001b[39;00m \u001b[39mrange\u001b[39m(\u001b[39mlen\u001b[39m(subsets)):\n",
      "\n",
      "\u001b[0;31mKeyboardInterrupt\u001b[0m: "
     ]
    }
   ],
   "source": [
    "#Generating initial population\n",
    "population = []\n",
    "for i in range(PopCount):\n",
    "    individual = [random.randint(0, 1) for _ in range(len(subsets))] # Random binary array\n",
    "    while is_covered(individual) == False:\n",
    "        j = random.randint(0, len(subsets) - sum(individual) - 1)\n",
    "        for k in range(len(subsets)):\n",
    "            if individual[k] == 0:\n",
    "                if j == 0:\n",
    "                    individual[k] = 1\n",
    "                else:\n",
    "                    j -= 1\n",
    "    eliminate(individual)\n",
    "    population.append(individual)\n",
    "\n",
    "# Main loop\n",
    "for gen in range(GenCount):\n",
    "    # Evaluate fitness of population\n",
    "    fitness_values = []\n",
    "    for individual in population:\n",
    "        fitness_values.append(costt(individual))\n",
    "\n",
    "    # Print best solution and fitness in current generation\n",
    "    best_index = fitness_values.index(min(fitness_values))\n",
    "    best_solution = population[best_index]\n",
    "    best_fitness = fitness_values[best_index]\n",
    "    print(\"Generation:\", gen)\n",
    "    print(\"Best solution:\", best_solution)\n",
    "    print(\"Best fitness:\", best_fitness)\n",
    "    print()\n",
    "\n",
    "    # Check termination criterion\n",
    "    if best_fitness <= targetWeight: # If optimal solution is found\n",
    "        break\n",
    "\n",
    "    # Select parents for reproduction\n",
    "    parents = []\n",
    "    for i in range(PopCount):\n",
    "        # Use tournament selection with size 2\n",
    "        p1 = random.choice(population)\n",
    "        p2 = random.choice(population)\n",
    "        if costt(p1) < costt(p2): # Choose the fitter parent\n",
    "            parents.append(p1)\n",
    "        else:\n",
    "            parents.append(p2)\n",
    "\n",
    "    # Generate offspring using crossover and mutation\n",
    "    offspring = []\n",
    "    for i in range(0, PopCount, 2):\n",
    "        # Select two parents randomly\n",
    "        p1 = random.choice(parents)\n",
    "        p2 = random.choice(parents)\n",
    "\n",
    "        # Apply crossover\n",
    "        c1, c2 = crossover(p1, p2)\n",
    "\n",
    "        # Apply mutation\n",
    "        mutation(c1)\n",
    "        mutation(c2)\n",
    "\n",
    "        c3 = localSearch(c1)\n",
    "        c4 = localSearch(c2)\n",
    "        if costt(c3) < costt(c1):\n",
    "            c1 = c3\n",
    "        if costt(c4) < costt(c2):\n",
    "            c2 = c4\n",
    "\n",
    "        # Add offspring to new population\n",
    "        offspring.append(c1)\n",
    "        offspring.append(c2)\n",
    "\n",
    "    # Replace old population with new offspring\n",
    "    offspring = population + offspring\n",
    "    offspring = sorted(offspring, key=costt)\n",
    "    print(costt(offspring[0]))\n",
    "    population = offspring[0:(int(oldpopulationkeeprate*PopCount))]\n",
    "    while len(population) != PopCount:\n",
    "        population.append(offspring[random.randint(int(oldpopulationkeeprate*PopCount), len(offspring)-1)])\n"
   ]
  }
 ],
 "metadata": {
  "language_info": {
   "name": "python"
  }
 },
 "nbformat": 4,
 "nbformat_minor": 2
}
